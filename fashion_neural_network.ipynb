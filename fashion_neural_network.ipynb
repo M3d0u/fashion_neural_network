{
 "cells": [
  {
   "cell_type": "code",
   "execution_count": 1,
   "metadata": {},
   "outputs": [],
   "source": [
    "import matplotlib.pyplot as plt\n",
    "import tensorflow as tf\n",
    "import numpy as np\n",
    "import pandas as pd\n",
    "import os\n",
    "from sklearn.preprocessing import StandardScaler"
   ]
  },
  {
   "cell_type": "markdown",
   "metadata": {},
   "source": [
    "#### Load the dataset"
   ]
  },
  {
   "cell_type": "code",
   "execution_count": 2,
   "metadata": {
    "scrolled": true
   },
   "outputs": [],
   "source": [
    "#Import du dataset présent dans Keras\n",
    "fashion_mnist = tf.keras.datasets.fashion_mnist\n",
    "(images, targets), (_, _) = fashion_mnist.load_data()\n",
    "\n",
    "#Get subpart of the dataset\n",
    "images = images[:10000]\n",
    "targets = targets[:10000]"
   ]
  },
  {
   "cell_type": "markdown",
   "metadata": {},
   "source": [
    "#### Checking on of the data"
   ]
  },
  {
   "cell_type": "code",
   "execution_count": 3,
   "metadata": {},
   "outputs": [
    {
     "data": {
      "image/png": "[encoded data removed]",
      "text/plain": [
       "<Figure size 432x288 with 1 Axes>"
      ]
     },
     "metadata": {
      "needs_background": "light"
     },
     "output_type": "display_data"
    }
   ],
   "source": [
    "targets_names = ['T-shirt/top', 'Trouser', 'Pullover', 'Dress', 'Coat', \n",
    "                 'Sandal', 'Shirt', 'Sneaker', 'Bag', 'Ankle Boot']\n",
    "\n",
    "#Plot one image\n",
    "plt.imshow(images[1], cmap = 'binary')\n",
    "plt.title(targets_names[targets[1]])\n",
    "plt.show()"
   ]
  },
  {
   "cell_type": "markdown",
   "metadata": {},
   "source": [
    "#### Pre-processing"
   ]
  },
  {
   "cell_type": "code",
   "execution_count": 4,
   "metadata": {},
   "outputs": [
    {
     "name": "stdout",
     "output_type": "stream",
     "text": [
      "(10000, 784)\n",
      "(10000,)\n"
     ]
    }
   ],
   "source": [
    "#Applatissement de l'image (Flatten): images en 28*28 = 784\n",
    "#model.add(tf.keras.layers.Flatten(input_shape = [28,28]))\n",
    "images = images.reshape(-1, 784)\n",
    "images = images.astype(float)\n",
    "\n",
    "#Normalisation (images = (images - np.mean(images)) / np.std(images))\n",
    "images = StandardScaler().fit_transform(images)\n",
    "\n",
    "print(images.shape)\n",
    "print(targets.shape)"
   ]
  },
  {
   "cell_type": "code",
   "execution_count": 5,
   "metadata": {},
   "outputs": [
    {
     "name": "stdout",
     "output_type": "stream",
     "text": [
      "(8000, 784) (8000,)\n",
      "(2000, 784) (2000,)\n"
     ]
    }
   ],
   "source": [
    "#Spliting the dataset into train_set and test_set\n",
    "\n",
    "from sklearn.model_selection import train_test_split\n",
    "\n",
    "images_train, images_test, targets_train, targets_test = train_test_split(images, targets, test_size = 0.2, random_state =  42)\n",
    "\n",
    "print(images_train.shape, targets_train.shape)\n",
    "print(images_test.shape, targets_test.shape)"
   ]
  },
  {
   "cell_type": "markdown",
   "metadata": {},
   "source": [
    "#### Creating the model"
   ]
  },
  {
   "cell_type": "code",
   "execution_count": 11,
   "metadata": {},
   "outputs": [
    {
     "name": "stdout",
     "output_type": "stream",
     "text": [
      "tf.Tensor(\n",
      "[[0.25079268 0.06381431 0.16733965 0.03051468 0.15194176 0.0371086\n",
      "  0.1415693  0.05582154 0.07654673 0.02455075]], shape=(1, 10), dtype=float32) [9]\n"
     ]
    }
   ],
   "source": [
    "#Création d'un model séquentiel\n",
    "model = tf.keras.models.Sequential()\n",
    "\n",
    "#Ajouts des layers\n",
    "model.add(tf.keras.layers.Dense(256, activation = 'relu'))\n",
    "model.add(tf.keras.layers.Dense(128, activation = 'relu'))\n",
    "model.add(tf.keras.layers.Dense(64, activation = 'relu'))\n",
    "model.add(tf.keras.layers.Dense(10, activation = 'softmax'))\n",
    "\n",
    "model_output = model(images[0:1])\n",
    "print(model_output, targets[0:1])"
   ]
  },
  {
   "cell_type": "code",
   "execution_count": 12,
   "metadata": {},
   "outputs": [
    {
     "name": "stdout",
     "output_type": "stream",
     "text": [
      "Model: \"sequential_1\"\n",
      "_________________________________________________________________\n",
      "Layer (type)                 Output Shape              Param #   \n",
      "=================================================================\n",
      "dense_3 (Dense)              (1, 256)                  200960    \n",
      "_________________________________________________________________\n",
      "dense_4 (Dense)              (1, 128)                  32896     \n",
      "_________________________________________________________________\n",
      "dense_5 (Dense)              (1, 64)                   8256      \n",
      "_________________________________________________________________\n",
      "dense_6 (Dense)              (1, 10)                   650       \n",
      "=================================================================\n",
      "Total params: 242,762\n",
      "Trainable params: 242,762\n",
      "Non-trainable params: 0\n",
      "_________________________________________________________________\n"
     ]
    }
   ],
   "source": [
    "model.summary()"
   ]
  },
  {
   "cell_type": "markdown",
   "metadata": {},
   "source": [
    "#### Compile the model"
   ]
  },
  {
   "cell_type": "code",
   "execution_count": 13,
   "metadata": {},
   "outputs": [],
   "source": [
    "model.compile(loss = 'sparse_categorical_crossentropy',\n",
    "             optimizer = 'sgd',\n",
    "             metrics = ['accuracy'])"
   ]
  },
  {
   "cell_type": "markdown",
   "metadata": {},
   "source": [
    "#### Train the model on the train_set"
   ]
  },
  {
   "cell_type": "code",
   "execution_count": 14,
   "metadata": {},
   "outputs": [
    {
     "name": "stdout",
     "output_type": "stream",
     "text": [
      "Epoch 1/10\n",
      "6400/6400 [==============================] - 18s 3ms/step - loss: 0.7032 - accuracy: 0.7511 - val_loss: 0.5277 - val_accuracy: 0.8037\n",
      "Epoch 2/10\n",
      "6400/6400 [==============================] - 18s 3ms/step - loss: 0.5016 - accuracy: 0.8219 - val_loss: 0.5749 - val_accuracy: 0.7912\n",
      "Epoch 3/10\n",
      "6400/6400 [==============================] - 14s 2ms/step - loss: 0.4209 - accuracy: 0.8477 - val_loss: 0.5063 - val_accuracy: 0.8194\n",
      "Epoch 4/10\n",
      "6400/6400 [==============================] - 14s 2ms/step - loss: 0.3999 - accuracy: 0.8572 - val_loss: 0.5469 - val_accuracy: 0.8219\n",
      "Epoch 5/10\n",
      "6400/6400 [==============================] - 13s 2ms/step - loss: 0.3670 - accuracy: 0.8680 - val_loss: 0.4983 - val_accuracy: 0.8325\n",
      "Epoch 6/10\n",
      "6400/6400 [==============================] - 13s 2ms/step - loss: 0.3178 - accuracy: 0.8802 - val_loss: 0.5559 - val_accuracy: 0.8363\n",
      "Epoch 7/10\n",
      "6400/6400 [==============================] - 13s 2ms/step - loss: 0.2707 - accuracy: 0.8988 - val_loss: 0.5465 - val_accuracy: 0.8313\n",
      "Epoch 8/10\n",
      "6400/6400 [==============================] - 13s 2ms/step - loss: 0.2725 - accuracy: 0.9019 - val_loss: 0.5314 - val_accuracy: 0.8331\n",
      "Epoch 9/10\n",
      "6400/6400 [==============================] - 13s 2ms/step - loss: 0.2355 - accuracy: 0.9147 - val_loss: 0.5283 - val_accuracy: 0.8406\n",
      "Epoch 10/10\n",
      "6400/6400 [==============================] - 13s 2ms/step - loss: 0.2272 - accuracy: 0.9153 - val_loss: 0.5225 - val_accuracy: 0.8369\n"
     ]
    }
   ],
   "source": [
    "history = model.fit (images_train, targets_train, epochs = 10,\n",
    "                     batch_size=1, validation_split = 0.2)"
   ]
  },
  {
   "cell_type": "code",
   "execution_count": 16,
   "metadata": {},
   "outputs": [
    {
     "name": "stdout",
     "output_type": "stream",
     "text": [
      "63/63 [==============================] - 0s 2ms/step - loss: 0.5024 - accuracy: 0.8500\n"
     ]
    },
    {
     "data": {
      "text/plain": [
       "[0.5023539662361145, 0.8500000238418579]"
      ]
     },
     "execution_count": 16,
     "metadata": {},
     "output_type": "execute_result"
    }
   ],
   "source": [
    "model.evaluate(images_test, targets_test)"
   ]
  },
  {
   "cell_type": "markdown",
   "metadata": {},
   "source": [
    "#### Making a prediction"
   ]
  },
  {
   "cell_type": "code",
   "execution_count": 17,
   "metadata": {},
   "outputs": [
    {
     "name": "stdout",
     "output_type": "stream",
     "text": [
      "Model predict that the image is a Ankle Boot, when in reality, it is a Ankle Boot\n"
     ]
    }
   ],
   "source": [
    "targets_names = ['T-shirt/top', 'Trouser', 'Pullover', 'Dress', 'Coat', \n",
    "                 'Sandal', 'Shirt', 'Sneaker', 'Bag', 'Ankle Boot']\n",
    "\n",
    "model_output = model.predict(images[0:1])\n",
    "\n",
    "for i in model_output:\n",
    "    for j in i:\n",
    "        if j<0.5:\n",
    "            pass\n",
    "        else:\n",
    "            model_output = list(i).index(j)\n",
    "\n",
    "print(f'Model predict that the image is a {targets_names[model_output]}, when in reality, it is a {targets_names[targets[0:1][0]]}')"
   ]
  },
  {
   "cell_type": "markdown",
   "metadata": {},
   "source": [
    "#### Save a model"
   ]
  },
  {
   "cell_type": "code",
   "execution_count": 35,
   "metadata": {},
   "outputs": [
    {
     "name": "stdout",
     "output_type": "stream",
     "text": [
      "Requirement already satisfied: h5py in c:\\users\\m2lan\\anaconda3\\lib\\site-packages (3.1.0)Note: you may need to restart the kernel to use updated packages.\n",
      "\n",
      "Requirement already satisfied: numpy>=1.17.5; python_version == \"3.8\" in c:\\users\\m2lan\\anaconda3\\lib\\site-packages (from h5py) (1.19.5)\n"
     ]
    }
   ],
   "source": [
    "#Save the model\n",
    "#model.save('fashion_nn')\n",
    "\n",
    "#Lad the model\n",
    "#loaded_model = tf.keras.models.load_model('fashion_nn')"
   ]
  }
 ],
 "metadata": {
  "kernelspec": {
   "display_name": "Python 3",
   "language": "python",
   "name": "python3"
  },
  "language_info": {
   "codemirror_mode": {
    "name": "ipython",
    "version": 3
   },
   "file_extension": ".py",
   "mimetype": "text/x-python",
   "name": "python",
   "nbconvert_exporter": "python",
   "pygments_lexer": "ipython3",
   "version": "3.8.3"
  }
 },
 "nbformat": 4,
 "nbformat_minor": 4
}
